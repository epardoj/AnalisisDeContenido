{
 "cells": [
  {
   "cell_type": "code",
   "execution_count": null,
   "id": "6d6892a8",
   "metadata": {},
   "outputs": [],
   "source": [
    "import whisper\n",
    "import couchdb\n",
    "import os\n",
    "from tinytag import TinyTag\n",
    "import time\n",
    "import subprocess\n",
    "model = whisper.load_model('small')\n",
    "import gc\n",
    "for limpio in range(3):\n",
    "    gc.collect(generation=limpio)"
   ]
  },
  {
   "cell_type": "code",
   "execution_count": null,
   "id": "a123c6ad",
   "metadata": {},
   "outputs": [],
   "source": [
    "couch = couchdb.Server('')#Ingresar la ubicación del gestor en el equipo.\n",
    "dbname = \"testimonios\"\n",
    "if dbname in couch:\n",
    "    db = couch[dbname]\n",
    "else:\n",
    "    db = couch.create(dbname)"
   ]
  },
  {
   "cell_type": "code",
   "execution_count": null,
   "id": "b8a08dae",
   "metadata": {},
   "outputs": [],
   "source": [
    "original = os.path.abspath(os.getcwd())\n",
    "path = os.path.join(original, 'fracciones')\n",
    "contenido = os.listdir(path)\n",
    "contenido.sort()"
   ]
  },
  {
   "cell_type": "code",
   "execution_count": null,
   "id": "a89ec757",
   "metadata": {
    "scrolled": false
   },
   "outputs": [],
   "source": [
    "nombre = '' #Es el nombre del sujeto al que se le hará la transcripción\n",
    "etapa = '' #Momento de la grabación\n",
    "frases = []\n",
    "duracion = 0\n",
    "for grabacion in contenido:\n",
    "    inicio = time.time()\n",
    "    ruta = os.path.join(path, grabacion)\n",
    "    result = model.transcribe(ruta)\n",
    "    frases.append(result['text'])\n",
    "    tiempo = TinyTag.get(ruta)\n",
    "    minutos = tiempo.duration\n",
    "    duracion += minutos \n",
    "    final = time.time()\n",
    "    tiempo_trans = (final - inicio)/60\n",
    "    print('el audio {} que dura {} minutos, se transcribio en {} minutos'.format(grabacion, minutos/60, tiempo_trans))\n",
    "\n",
    "audio = \" \".join(frases)\n",
    "documento = {'nombre': nombre, 'etapa': etapa, 'duracion':duracion, 'relato' : audio}\n",
    "db.save(documento)\n",
    "for limpio in range(3):\n",
    "    gc.collect(generation=limpio)\n",
    "subprocess.run('shutdown -h 2', shell=True)"
   ]
  }
 ],
 "metadata": {
  "kernelspec": {
   "display_name": "Python 3 (ipykernel)",
   "language": "python",
   "name": "python3"
  },
  "language_info": {
   "codemirror_mode": {
    "name": "ipython",
    "version": 3
   },
   "file_extension": ".py",
   "mimetype": "text/x-python",
   "name": "python",
   "nbconvert_exporter": "python",
   "pygments_lexer": "ipython3",
   "version": "3.8.8"
  }
 },
 "nbformat": 4,
 "nbformat_minor": 5
}
